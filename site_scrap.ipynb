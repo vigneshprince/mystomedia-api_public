{
 "cells": [
  {
   "cell_type": "code",
   "execution_count": 9,
   "metadata": {},
   "outputs": [],
   "source": [
    "import bs4\n",
    "import urllib\n",
    "import pandas as pd\n",
    "import tqdm"
   ]
  },
  {
   "cell_type": "code",
   "execution_count": 2,
   "metadata": {},
   "outputs": [],
   "source": [
    "opener = urllib.request.build_opener()\n",
    "opener.addheaders = [('User-agent', 'Mozilla/5.0')]\n",
    "urllib.request.install_opener(opener)"
   ]
  },
  {
   "cell_type": "code",
   "execution_count": 3,
   "metadata": {},
   "outputs": [],
   "source": [
    "links=['https://tamilvideosda.com/tamil-2021-videos-songs.html','https://tamilvideosda.com/tamil-2020-videos-songs.html','https://tamilvideosda.com/tamil-2019-videos-songs.html','https://tamilvideosda.com/tamil-2018-videos-songs.html','https://tamilvideosda.com/tamil-2017-videos-songs.html','https://tamilvideosda.com/tamil-2016-videos-songs.html','https://tamilvideosda.com/tamil-2015-videos-songs.html','https://tamilvideosda.com/tamil-hd-video-songs.html','https://tamilvideosda.com/atoz.php','https://tamilvideosda.com/tamil-album-songs.html']"
   ]
  },
  {
   "cell_type": "code",
   "execution_count": 4,
   "metadata": {},
   "outputs": [
    {
     "name": "stdout",
     "output_type": "stream",
     "text": [
      "https://tamilvideosda.com/tamil-2021-videos-songs.html\n",
      "https://tamilvideosda.com/tamil-2020-videos-songs.html\n",
      "https://tamilvideosda.com/tamil-2019-videos-songs.html\n",
      "https://tamilvideosda.com/tamil-2018-videos-songs.html\n",
      "https://tamilvideosda.com/tamil-2017-videos-songs.html\n",
      "https://tamilvideosda.com/tamil-2016-videos-songs.html\n",
      "https://tamilvideosda.com/tamil-2015-videos-songs.html\n",
      "https://tamilvideosda.com/tamil-hd-video-songs.html\n",
      "https://tamilvideosda.com/atoz.php\n",
      "https://tamilvideosda.com/tamil-album-songs.html\n"
     ]
    }
   ],
   "source": [
    "new_data_1=[]\n",
    "for li in links:\n",
    "    i=1\n",
    "    print(li)\n",
    "    while True:\n",
    "        mainsoup = bs4.BeautifulSoup(urllib.request.urlopen(f'{li}?get-page={i}'), 'html.parser')\n",
    "        i+=1\n",
    "        tmp=mainsoup.find_all(\"div\", {\"class\": \"f\"})\n",
    "        if(len(tmp)>0):\n",
    "            for x in tmp:\n",
    "                for song in x.findAll('a'):\n",
    "                    new_data_1.append([song.string,song.get('href')])\n",
    "        else:\n",
    "            break"
   ]
  },
  {
   "cell_type": "code",
   "execution_count": 7,
   "metadata": {},
   "outputs": [
    {
     "name": "stdout",
     "output_type": "stream",
     "text": [
      "2173 1236\n"
     ]
    }
   ],
   "source": [
    "\n",
    "df = pd.DataFrame(new_data_1, columns=['level1','level1_link'])\n",
    "df['Occur'] = df.groupby('level1')['level1'].transform('size')\n",
    "df_filtered = df[(df['Occur'] ==1) | ( (df['Occur'] >1) & (~df['level1_link'].str.endswith('xhtml')) ) ]\n",
    "print(len(df),len(df_filtered))"
   ]
  },
  {
   "cell_type": "code",
   "execution_count": 16,
   "metadata": {},
   "outputs": [],
   "source": [
    "l2_df=pd.DataFrame(columns=['level1','level1_link','level2','level2_link'])"
   ]
  },
  {
   "cell_type": "code",
   "execution_count": 18,
   "metadata": {},
   "outputs": [
    {
     "name": "stderr",
     "output_type": "stream",
     "text": [
      "100%|██████████| 1236/1236 [04:32<00:00,  4.54it/s]\n"
     ]
    }
   ],
   "source": [
    "for i,r in tqdm.tqdm(df_filtered.iterrows(), total=df_filtered.shape[0]):\n",
    "    li=r['level1_link']\n",
    "    mainsoup = bs4.BeautifulSoup(urllib.request.urlopen(f'https://tamilvideosda.com{li}'), 'html.parser')\n",
    "    tmp=mainsoup.find_all(\"div\", {\"class\": \"f\"})\n",
    "    if(len(tmp)>0):\n",
    "        for x in tmp:\n",
    "            for song in x.findAll('a'):\n",
    "                l2_df.loc[len(l2_df.index)] = [r['level1'],r['level1_link'],song.string,song.get('href')] \n"
   ]
  },
  {
   "cell_type": "code",
   "execution_count": 20,
   "metadata": {},
   "outputs": [],
   "source": [
    "l3_df=pd.DataFrame(columns=['level1','level1_link','level2','level2_link','level3','level3_link'])"
   ]
  },
  {
   "cell_type": "code",
   "execution_count": 21,
   "metadata": {},
   "outputs": [
    {
     "name": "stderr",
     "output_type": "stream",
     "text": [
      "100%|██████████| 5211/5211 [21:59<00:00,  3.95it/s]\n"
     ]
    }
   ],
   "source": [
    "for i,r in tqdm.tqdm(l2_df.iterrows(), total=l2_df.shape[0]):\n",
    "    li=r['level2_link']\n",
    "    try:\n",
    "        mainsoup = bs4.BeautifulSoup(urllib.request.urlopen(f'https://tamilvideosda.com{li}'), 'html.parser')\n",
    "    except:\n",
    "        mainsoup = bs4.BeautifulSoup(urllib.request.urlopen(li), 'html.parser')\n",
    "        \n",
    "    tmp=mainsoup.find_all(\"div\", {\"class\": \"f\"})\n",
    "    if(len(tmp)>0):\n",
    "        for x in tmp:\n",
    "            for song in x.findAll('a'):\n",
    "                l3_df.loc[len(l3_df.index)] = [r['level1'],r['level1_link'],r['level2'],r['level2_link'],song.string,song.get('href')] \n",
    "    "
   ]
  },
  {
   "cell_type": "code",
   "execution_count": 29,
   "metadata": {},
   "outputs": [],
   "source": [
    "final_data=l3_df[(l3_df['level3_link'].str.startswith('https://tamilvideosda.com'))&(~l3_df['level3'].str.endswith('3gp'))]"
   ]
  },
  {
   "cell_type": "code",
   "execution_count": 30,
   "metadata": {},
   "outputs": [],
   "source": [
    "import sqlite3\n",
    "\n",
    "# Create a SQL connection to our SQLite database\n",
    "con = sqlite3.connect(\"data.sqlite\")"
   ]
  },
  {
   "cell_type": "code",
   "execution_count": 31,
   "metadata": {},
   "outputs": [],
   "source": [
    "final_data[['level1','level2','level3','level3_link']].to_sql('data', con, if_exists='replace', index=True)"
   ]
  }
 ],
 "metadata": {
  "interpreter": {
   "hash": "52112dbce060a59aaaff431186ba8c8bee42b6f816353e0321048af741297d25"
  },
  "kernelspec": {
   "display_name": "Python 3.8.3 64-bit ('base': conda)",
   "name": "python3"
  },
  "language_info": {
   "codemirror_mode": {
    "name": "ipython",
    "version": 3
   },
   "file_extension": ".py",
   "mimetype": "text/x-python",
   "name": "python",
   "nbconvert_exporter": "python",
   "pygments_lexer": "ipython3",
   "version": "3.10.0"
  },
  "orig_nbformat": 4
 },
 "nbformat": 4,
 "nbformat_minor": 2
}
